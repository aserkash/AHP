{
 "cells": [
  {
   "cell_type": "markdown",
   "id": "prostate-carol",
   "metadata": {},
   "source": [
    "### <u>University choice with Analytical Hierarchy Process (AHP)</u>\n",
    "#### By Kashosi Aser\n"
   ]
  },
  {
   "cell_type": "markdown",
   "id": "saving-think",
   "metadata": {},
   "source": [
    "#### Task\n",
    "\n",
    "During this project, I will be using AHP to determine which university I should choose for my masters.\n",
    "The number of alternatives is 4. The names of the universities will remain anonymous for obvious reasons.\n",
    "I will replace the names by A1, A2, A3 and A4.\n",
    "\n",
    "| Description of universities | Name |\n",
    "| --- | --- |\n",
    "| <b>University 1</b>: This University Has a world ranking of 4955th, tuition fees of around 3000 USD. No prospect of academic success for the students (I have not read the articles published by their foreign students). Hosting costs around 200 USD per month with no post-graduation placement in the market. The language barrier of the host country is moderate. The host country is not that exciting. The cultural barrier can however be easily crossed. | <b>A1</b> |\n",
    "| <b>University 2</b>: The Ranking is better: 235th, tuition fee of 3200 USD. Promising academic prospects, even for foreign students (1 in 7 being foreign). The acceptance rate is 29%. Welcoming 400 USD / month, this university offers a bright future for placement in the job market. The country of origin is pretty. The cultural barrier can be crossed. | <b>A2</b> |\n",
    "| <b>University 3</b>: World Ranking 1715, Tuition: USD 3000 with moderate academic recognition (achievable) Accommodation: USD 300 / month. The chances of placement in the labor market seem good and the country is pleasant. However, crossing language and cultural barriers is essential to be successful, which will not be easy. | <b>A3</b> |\n",
    "| <b>University 4</b>: The Ranking is around 1204, I won't be forced to pay tuition. This university turns out to have good academic programs (one needs to publish at least 2 papers to complete the first year). Chances of getting admission are 0-3%, hosting is USD 100 / month. Placement on the starch market is not on the horizon. I don't really like the host country. The linguistic and cultural barrier is almost impossible to cross. | <b>A4</b> |"
   ]
  },
  {
   "cell_type": "markdown",
   "id": "seven-airplane",
   "metadata": {},
   "source": [
    "### Imports"
   ]
  },
  {
   "cell_type": "code",
   "execution_count": 1,
   "id": "declared-coating",
   "metadata": {},
   "outputs": [],
   "source": [
    "import numpy as np\n",
    "import matplotlib.pyplot as plt"
   ]
  },
  {
   "cell_type": "markdown",
   "id": "invalid-sheffield",
   "metadata": {},
   "source": [
    "#### Establish the critaria\n",
    "I will first describe the criteria on which my decision will be based \n",
    "\n",
    "\n",
    "|   | criteria   |\n",
    "| --- | ------ |\n",
    "| 1 |Global Ranking |\n",
    "| 2 |Tuition fees |\n",
    "| 3 |Academic recognition |\n",
    "| 4 |Acceptancy rate |\n",
    "| 5 |Accommodation |\n",
    "| 6 |Job Placement |\n",
    "| 7 |Country |\n",
    "| 8 |Language Barrier |"
   ]
  },
  {
   "cell_type": "markdown",
   "id": "systematic-accessory",
   "metadata": {},
   "source": [
    "#### 1. Alternatives compared with respect to Global Ranking\n",
    "\n",
    "<table>\n",
    "    <thead>\n",
    "        <th>Global Ranking<th>\n",
    "        <th>A1<th>\n",
    "        <th>A2<th>\n",
    "        <th>A3<th>\n",
    "        <th>A4<th>\n",
    "    </thead>\n",
    "    <tbody>\n",
    "        <tr>\n",
    "            <th>A1</th>\n",
    "            <td colspan=\"2\">1</td>\n",
    "            <td colspan=\"2\">1/8</td>\n",
    "            <td colspan=\"2\">1/3</td>\n",
    "            <td colspan=\"2\">1/7</td>\n",
    "        </tr>\n",
    "        <tr>\n",
    "            <th>A2</th>\n",
    "            <td colspan=\"2\">8</td>\n",
    "            <td colspan=\"2\">1</td>\n",
    "            <td colspan=\"2\">6</td>\n",
    "            <td colspan=\"2\">5</td>\n",
    "        </tr>\n",
    "        <tr>\n",
    "            <th>A3</th>\n",
    "            <td colspan=\"2\">3</td>\n",
    "            <td colspan=\"2\">1/6</td>\n",
    "            <td colspan=\"2\">1</td>\n",
    "            <td colspan=\"2\">1/2</td>\n",
    "        </tr>\n",
    "        <tr>\n",
    "            <th>A4</th>\n",
    "            <td colspan=\"2\">7</td>\n",
    "            <td colspan=\"2\">1/5</td>\n",
    "            <td colspan=\"2\">2</td>\n",
    "            <td colspan=\"2\">1</td>\n",
    "        </tr>\n",
    "    </tbody>\n",
    "</table>"
   ]
  },
  {
   "cell_type": "markdown",
   "id": "governing-banner",
   "metadata": {},
   "source": [
    "I will first add two variables that will do the following(for lack of imagination, I will use the same name used in most AHP tutorials <strong>\"M_LOCAL\"</strong> and <strong>\"y_GOAL\"</strong>)\n",
    "<ul>\n",
    "    <li>M_LOCAL : A matrix that will hold all local priority vectors of alternatives</li>\n",
    "    <li>y_GOAL: The priority vector for our final pairwise matrix</li>\n",
    "</ul>\n"
   ]
  },
  {
   "cell_type": "code",
   "execution_count": 2,
   "id": "narrative-controversy",
   "metadata": {},
   "outputs": [],
   "source": [
    "M_LOCAL = []\n",
    "y_GOAL = []"
   ]
  },
  {
   "cell_type": "code",
   "execution_count": 3,
   "id": "activated-modem",
   "metadata": {},
   "outputs": [
    {
     "data": {
      "text/plain": [
       "array([[1.        , 0.125     , 0.33333333, 0.14285714],\n",
       "       [8.        , 1.        , 6.        , 5.        ],\n",
       "       [3.        , 0.16666667, 1.        , 0.5       ],\n",
       "       [7.        , 0.2       , 2.        , 1.        ]])"
      ]
     },
     "execution_count": 3,
     "metadata": {},
     "output_type": "execute_result"
    }
   ],
   "source": [
    "# pairwise comparison matrix with respect to global Ranking\n",
    "g_ranking_matrix = np.array([[1, 1/8, 1/3, 1/7],\n",
    "                         [8, 1, 6, 5],\n",
    "                         [3, 1/6, 1, 1/2],\n",
    "                         [7, 1/5, 2, 1]])    \n",
    "\n",
    "g_ranking_matrix"
   ]
  },
  {
   "cell_type": "markdown",
   "id": "preliminary-lobby",
   "metadata": {},
   "source": [
    "### prior_vec()\n",
    "\n",
    "Function for calculating the priority vector and consistency index with given pairwise comparison matrix A"
   ]
  },
  {
   "cell_type": "code",
   "execution_count": 4,
   "id": "stable-bachelor",
   "metadata": {},
   "outputs": [],
   "source": [
    " def prior_vec(A):\n",
    "    \n",
    "    # L - eigenvalues, v - eigenvectors\n",
    "    L, v = np.linalg.eig(A)\n",
    "    \n",
    "    # eigenvalues can be complex, we calculate absolute values\n",
    "    abs_L = np.abs(L)\n",
    "    \n",
    "    # max eigenvalue\n",
    "    lambda_max = max(abs_L)\n",
    "\n",
    "    # eigenvector corresponding to the max eigenvalue\n",
    "    i = np.argmax(abs_L)\n",
    "    W = v[:, i]\n",
    "    w = W/sum(W)\n",
    "    \n",
    "    # consistency index\n",
    "    n = A.shape[0]\n",
    "    cons_index = (lambda_max - n)/(n - 1)\n",
    "       \n",
    "    return cons_index, np.abs(w)"
   ]
  },
  {
   "cell_type": "markdown",
   "id": "existing-violence",
   "metadata": {},
   "source": [
    "### get_result() \n",
    "\n",
    "Function for generating the final results given a pairwise comparison matrix M, and/or labels, degree of the axis to accommodate labels \n",
    "The \"computeGlobal\" parameter helps differentiate between local and gobal results.\n",
    "We really don't want to append the global results to the locals do we :)"
   ]
  },
  {
   "cell_type": "code",
   "execution_count": 5,
   "id": "necessary-sally",
   "metadata": {},
   "outputs": [],
   "source": [
    "def get_result(M, labels=[], computeGlobal=False ,dgrLabels=0):\n",
    "    # CI - consistency index, PV - priority vector\n",
    "    CI, PV = prior_vec(M)\n",
    "    \n",
    "    # add the priority vector to our M_LOCAL for local results only otherwise update y_GOAL(for global only)\n",
    "    if computeGlobal:y_GOAL.append(PV)\n",
    "    else: M_LOCAL.append(PV)\n",
    "   \n",
    "    \n",
    "    # Random consistency indexes\n",
    "    RI = np.array([\n",
    "        [1, 0],\n",
    "        [2, 0],\n",
    "        [3, 0.52],\n",
    "        [4, 0.89],\n",
    "        [5, 1.11],\n",
    "        [6, 1.25],\n",
    "        [7, 1.35],\n",
    "        [8, 1.40],\n",
    "        [9, 1.45],\n",
    "        [10, 1.49],\n",
    "    ])\n",
    "    # get size of matrix M\n",
    "    # check if M is a square Matrix\n",
    "    if len(M.shape) < 3 and M.shape[0] == M.shape[1]: size = M.shape[0]\n",
    "    else : return \"wrong input\"\n",
    "    \n",
    "    # CR - consistency ratio = CI/RI\n",
    "    CR = 0\n",
    "    for ele in RI:\n",
    "        if ele[0] == size:\n",
    "            # CR - consistency ratio = CI/RI (see above)\n",
    "            CR = CI/ele[1]\n",
    "            \n",
    "    if CR < 0.1:\n",
    "        plt.bar(labels, PV)\n",
    "        plt.xticks(rotation = dgrLabels) # Rotates X-Axis Ticks by DgrLabels-degrees\n",
    "        plt.show()\n",
    "        print(f'priority vector {PV.round(4)}')\n",
    "        print(f'consistency index {CI.round(4)}')\n",
    "        print(f'consistency ratio {CR.round(4)}')\n",
    "    else : return \"The matrix is inconsistent\"\n",
    "        "
   ]
  },
  {
   "cell_type": "markdown",
   "id": "technological-course",
   "metadata": {},
   "source": [
    "#### Global ranking results\n"
   ]
  },
  {
   "cell_type": "code",
   "execution_count": 6,
   "id": "smooth-complex",
   "metadata": {},
   "outputs": [
    {
     "data": {
      "image/png": "[encoded data removed]",
      "text/plain": [
       "<Figure size 432x288 with 1 Axes>"
      ]
     },
     "metadata": {
      "needs_background": "light"
     },
     "output_type": "display_data"
    },
    {
     "name": "stdout",
     "output_type": "stream",
     "text": [
      "priority vector [0.0455 0.6394 0.1082 0.2069]\n",
      "consistency index 0.0673\n",
      "consistency ratio 0.0756\n"
     ]
    }
   ],
   "source": [
    "get_result(M=g_ranking_matrix, labels=[\"A1\",\"A2\",\"A3\",\"A4\"])"
   ]
  },
  {
   "cell_type": "markdown",
   "id": "needed-trial",
   "metadata": {},
   "source": [
    "#### 2. Aternatives compared with respect to Tuition fees"
   ]
  },
  {
   "cell_type": "code",
   "execution_count": 7,
   "id": "utility-bankruptcy",
   "metadata": {},
   "outputs": [
    {
     "data": {
      "text/plain": [
       "array([[1.        , 3.        , 1.        , 0.14285714],\n",
       "       [0.33333333, 1.        , 0.33333333, 0.125     ],\n",
       "       [1.        , 3.        , 1.        , 0.14285714],\n",
       "       [7.        , 8.        , 7.        , 1.        ]])"
      ]
     },
     "execution_count": 7,
     "metadata": {},
     "output_type": "execute_result"
    }
   ],
   "source": [
    "# pairwise comparison matrix with respect to tuition fees\n",
    "tuition_matrix = np.array([[1, 3, 1, 1/7],\n",
    "                         [1/3, 1, 1/3, 1/8],\n",
    "                         [1, 3, 1, 1/7],\n",
    "                         [7, 8, 7, 1]])    \n",
    "\n",
    "tuition_matrix"
   ]
  },
  {
   "cell_type": "markdown",
   "id": "random-account",
   "metadata": {},
   "source": [
    "#### Tuition results"
   ]
  },
  {
   "cell_type": "code",
   "execution_count": 8,
   "id": "sustainable-prompt",
   "metadata": {},
   "outputs": [
    {
     "data": {
      "image/png": "[encoded data removed]",
      "text/plain": [
       "<Figure size 432x288 with 1 Axes>"
      ]
     },
     "metadata": {
      "needs_background": "light"
     },
     "output_type": "display_data"
    },
    {
     "name": "stdout",
     "output_type": "stream",
     "text": [
      "priority vector [0.1242 0.0545 0.1242 0.6972]\n",
      "consistency index 0.0395\n",
      "consistency ratio 0.0444\n"
     ]
    }
   ],
   "source": [
    "get_result(M=tuition_matrix, labels=[\"A1\",\"A2\",\"A3\",\"A4\"])"
   ]
  },
  {
   "cell_type": "markdown",
   "id": "exempt-least",
   "metadata": {},
   "source": [
    "#### 3. Aternatives compared with respect to Academic recognition"
   ]
  },
  {
   "cell_type": "code",
   "execution_count": 9,
   "id": "separate-integer",
   "metadata": {},
   "outputs": [
    {
     "data": {
      "text/plain": [
       "array([[1.        , 0.2       , 0.33333333, 0.16666667],\n",
       "       [5.        , 1.        , 4.        , 0.33333333],\n",
       "       [3.        , 0.25      , 1.        , 0.2       ],\n",
       "       [6.        , 3.        , 5.        , 1.        ]])"
      ]
     },
     "execution_count": 9,
     "metadata": {},
     "output_type": "execute_result"
    }
   ],
   "source": [
    "# pairwise comparison matrix with respect to Academic recognition\n",
    "acad_matrix = np.array([[1, 1/5, 1/3, 1/6],\n",
    "                         [5, 1, 4, 1/3],\n",
    "                         [3, 1/4, 1, 1/5],\n",
    "                         [6, 3, 5, 1]])    \n",
    "\n",
    "acad_matrix"
   ]
  },
  {
   "cell_type": "markdown",
   "id": "behind-formula",
   "metadata": {},
   "source": [
    "#### Academic achievements results"
   ]
  },
  {
   "cell_type": "code",
   "execution_count": 10,
   "id": "unusual-margin",
   "metadata": {},
   "outputs": [
    {
     "data": {
      "image/png": "[encoded data removed]",
      "text/plain": [
       "<Figure size 432x288 with 1 Axes>"
      ]
     },
     "metadata": {
      "needs_background": "light"
     },
     "output_type": "display_data"
    },
    {
     "name": "stdout",
     "output_type": "stream",
     "text": [
      "priority vector [0.0577 0.2848 0.1104 0.5471]\n",
      "consistency index 0.068\n",
      "consistency ratio 0.0765\n"
     ]
    }
   ],
   "source": [
    "get_result(M=acad_matrix, labels=[\"A1\",\"A2\",\"A3\",\"A4\"])"
   ]
  },
  {
   "cell_type": "markdown",
   "id": "perfect-mustang",
   "metadata": {},
   "source": [
    "#### 4. Alternatives compared with respect to Acceptancy rate"
   ]
  },
  {
   "cell_type": "code",
   "execution_count": 11,
   "id": "finished-techno",
   "metadata": {},
   "outputs": [
    {
     "data": {
      "text/plain": [
       "array([[1.        , 7.        , 3.        , 8.        ],\n",
       "       [0.14285714, 1.        , 0.25      , 2.        ],\n",
       "       [0.33333333, 4.        , 1.        , 6.        ],\n",
       "       [0.125     , 0.5       , 0.16666667, 1.        ]])"
      ]
     },
     "execution_count": 11,
     "metadata": {},
     "output_type": "execute_result"
    }
   ],
   "source": [
    "# pairwise comparison matrix with respect to Acceptancy rate\n",
    "accept_r_matrix = np.array([[1, 7, 3, 8],\n",
    "                         [1/7, 1, 1/4, 2],\n",
    "                         [1/3, 4, 1, 6],\n",
    "                         [1/8, 1/2, 1/6, 1]])    \n",
    "\n",
    "accept_r_matrix"
   ]
  },
  {
   "cell_type": "markdown",
   "id": "durable-rings",
   "metadata": {},
   "source": [
    "#### Acceptancy rate results"
   ]
  },
  {
   "cell_type": "code",
   "execution_count": 12,
   "id": "mechanical-coast",
   "metadata": {},
   "outputs": [
    {
     "data": {
      "image/png": "[encoded data removed]",
      "text/plain": [
       "<Figure size 432x288 with 1 Axes>"
      ]
     },
     "metadata": {
      "needs_background": "light"
     },
     "output_type": "display_data"
    },
    {
     "name": "stdout",
     "output_type": "stream",
     "text": [
      "priority vector [0.5908 0.0834 0.2736 0.0522]\n",
      "consistency index 0.0283\n",
      "consistency ratio 0.0318\n"
     ]
    }
   ],
   "source": [
    "get_result(M=accept_r_matrix, labels=[\"A1\",\"A2\",\"A3\",\"A4\"])"
   ]
  },
  {
   "cell_type": "markdown",
   "id": "congressional-outreach",
   "metadata": {},
   "source": [
    "#### 5. Alternatives compared with respect to Accommodation"
   ]
  },
  {
   "cell_type": "code",
   "execution_count": 13,
   "id": "instant-fantasy",
   "metadata": {},
   "outputs": [
    {
     "data": {
      "text/plain": [
       "array([[1.        , 5.        , 3.        , 0.33333333],\n",
       "       [0.2       , 1.        , 0.33333333, 0.16666667],\n",
       "       [0.33333333, 3.        , 1.        , 0.2       ],\n",
       "       [3.        , 6.        , 5.        , 1.        ]])"
      ]
     },
     "execution_count": 13,
     "metadata": {},
     "output_type": "execute_result"
    }
   ],
   "source": [
    "# pairwise comparison matrix with respect to Accommodation\n",
    "accom_matrix = np.array([[1, 5, 3, 1/3],\n",
    "                         [1/5, 1, 1/3, 1/6],\n",
    "                         [1/3, 3, 1, 1/5],\n",
    "                         [3, 6, 5, 1]])    \n",
    "\n",
    "accom_matrix"
   ]
  },
  {
   "cell_type": "markdown",
   "id": "outdoor-photograph",
   "metadata": {},
   "source": [
    "#### Accommodation results"
   ]
  },
  {
   "cell_type": "code",
   "execution_count": 14,
   "id": "wanted-intent",
   "metadata": {},
   "outputs": [
    {
     "data": {
      "image/png": "[encoded data removed]",
      "text/plain": [
       "<Figure size 432x288 with 1 Axes>"
      ]
     },
     "metadata": {
      "needs_background": "light"
     },
     "output_type": "display_data"
    },
    {
     "name": "stdout",
     "output_type": "stream",
     "text": [
      "priority vector [0.2661 0.0589 0.1195 0.5554]\n",
      "consistency index 0.0501\n",
      "consistency ratio 0.0563\n"
     ]
    }
   ],
   "source": [
    "get_result(M=accom_matrix, labels=[\"A1\",\"A2\",\"A3\",\"A4\"])"
   ]
  },
  {
   "cell_type": "markdown",
   "id": "surrounded-christopher",
   "metadata": {},
   "source": [
    "#### 6. Alternatives compared with respect to Job Placement"
   ]
  },
  {
   "cell_type": "code",
   "execution_count": 15,
   "id": "seven-eugene",
   "metadata": {},
   "outputs": [
    {
     "data": {
      "text/plain": [
       "array([[1.        , 0.2       , 0.33333333, 2.        ],\n",
       "       [5.        , 1.        , 3.        , 6.        ],\n",
       "       [3.        , 0.33333333, 1.        , 5.        ],\n",
       "       [0.5       , 0.16666667, 0.2       , 1.        ]])"
      ]
     },
     "execution_count": 15,
     "metadata": {},
     "output_type": "execute_result"
    }
   ],
   "source": [
    "# pairwise comparison matrix with respect to Job Placement\n",
    "job_matrix = np.array([[1, 1/5, 1/3, 2],\n",
    "                         [5, 1, 3, 6],\n",
    "                         [3, 1/3, 1, 5],\n",
    "                         [1/2, 1/6, 1/5, 1]])    \n",
    "\n",
    "job_matrix"
   ]
  },
  {
   "cell_type": "markdown",
   "id": "determined-tunisia",
   "metadata": {},
   "source": [
    "#### Job Placement results"
   ]
  },
  {
   "cell_type": "code",
   "execution_count": 16,
   "id": "found-protocol",
   "metadata": {},
   "outputs": [
    {
     "data": {
      "image/png": "[encoded data removed]",
      "text/plain": [
       "<Figure size 432x288 with 1 Axes>"
      ]
     },
     "metadata": {
      "needs_background": "light"
     },
     "output_type": "display_data"
    },
    {
     "name": "stdout",
     "output_type": "stream",
     "text": [
      "priority vector [0.107  0.5594 0.2688 0.0648]\n",
      "consistency index 0.0312\n",
      "consistency ratio 0.0351\n"
     ]
    }
   ],
   "source": [
    "get_result(M=job_matrix, labels=[\"A1\",\"A2\",\"A3\",\"A4\"])"
   ]
  },
  {
   "cell_type": "markdown",
   "id": "copyrighted-angel",
   "metadata": {},
   "source": [
    "#### 7. Alternatives compared with respect to Country"
   ]
  },
  {
   "cell_type": "code",
   "execution_count": 17,
   "id": "flush-kitty",
   "metadata": {},
   "outputs": [
    {
     "data": {
      "text/plain": [
       "array([[1.        , 0.25      , 0.25      , 0.33333333],\n",
       "       [4.        , 1.        , 1.        , 5.        ],\n",
       "       [4.        , 1.        , 1.        , 5.        ],\n",
       "       [3.        , 0.2       , 0.2       , 1.        ]])"
      ]
     },
     "execution_count": 17,
     "metadata": {},
     "output_type": "execute_result"
    }
   ],
   "source": [
    "# pairwise comparison matrix with respect to the Country\n",
    "country_matrix = np.array([[1, 1/4, 1/4, 1/3],\n",
    "                         [4, 1, 1, 5],\n",
    "                         [4, 1, 1, 5],\n",
    "                         [3, 1/5, 1/5, 1]])    \n",
    "\n",
    "country_matrix"
   ]
  },
  {
   "cell_type": "markdown",
   "id": "verified-square",
   "metadata": {},
   "source": [
    "#### Country results"
   ]
  },
  {
   "cell_type": "code",
   "execution_count": 18,
   "id": "little-nicholas",
   "metadata": {},
   "outputs": [
    {
     "data": {
      "image/png": "[encoded data removed]",
      "text/plain": [
       "<Figure size 432x288 with 1 Axes>"
      ]
     },
     "metadata": {
      "needs_background": "light"
     },
     "output_type": "display_data"
    },
    {
     "name": "stdout",
     "output_type": "stream",
     "text": [
      "priority vector [0.0748 0.4029 0.4029 0.1195]\n",
      "consistency index 0.0753\n",
      "consistency ratio 0.0846\n"
     ]
    }
   ],
   "source": [
    "get_result(M=country_matrix, labels=[\"A1\",\"A2\",\"A3\",\"A4\"])"
   ]
  },
  {
   "cell_type": "markdown",
   "id": "acquired-somewhere",
   "metadata": {},
   "source": [
    "#### 8. Alternatives compared with respect to the Language Barrier"
   ]
  },
  {
   "cell_type": "code",
   "execution_count": 19,
   "id": "mental-excerpt",
   "metadata": {},
   "outputs": [
    {
     "data": {
      "text/plain": [
       "array([[1.  , 2.  , 2.  , 5.  ],\n",
       "       [0.5 , 1.  , 1.  , 4.  ],\n",
       "       [0.5 , 1.  , 1.  , 4.  ],\n",
       "       [0.2 , 0.25, 0.25, 1.  ]])"
      ]
     },
     "execution_count": 19,
     "metadata": {},
     "output_type": "execute_result"
    }
   ],
   "source": [
    "# pairwise comparison matrix with respect to the Language Barrier\n",
    "lg_matrix = np.array([[1, 2, 2, 5],\n",
    "                         [1/2, 1, 1, 4],\n",
    "                         [1/2, 1, 1, 4],\n",
    "                         [1/5, 1/4, 1/4, 1]])    \n",
    "\n",
    "lg_matrix"
   ]
  },
  {
   "cell_type": "markdown",
   "id": "frequent-quantum",
   "metadata": {},
   "source": [
    "#### Language Barrier results"
   ]
  },
  {
   "cell_type": "code",
   "execution_count": 20,
   "id": "composed-semiconductor",
   "metadata": {},
   "outputs": [
    {
     "data": {
      "image/png": "[encoded data removed]",
      "text/plain": [
       "<Figure size 432x288 with 1 Axes>"
      ]
     },
     "metadata": {
      "needs_background": "light"
     },
     "output_type": "display_data"
    },
    {
     "name": "stdout",
     "output_type": "stream",
     "text": [
      "priority vector [0.0748 0.4029 0.4029 0.1195]\n",
      "consistency index 0.0753\n",
      "consistency ratio 0.0846\n"
     ]
    }
   ],
   "source": [
    "get_result(M=country_matrix, labels=[\"A1\",\"A2\",\"A3\",\"A4\"])"
   ]
  },
  {
   "cell_type": "markdown",
   "id": "worldwide-directory",
   "metadata": {},
   "source": [
    "## Criteria comparison for the ultimate choice"
   ]
  },
  {
   "cell_type": "markdown",
   "id": "third-fiber",
   "metadata": {},
   "source": [
    "<table>\n",
    "    <thead>\n",
    "        <th></th>\n",
    "        <th>Global Ranking</th>\n",
    "        <th>Tuition fees</th>\n",
    "        <th>Academic recognition</th>       \n",
    "        <th>Accommodation</th>\n",
    "        <th>Job Placement</th>\n",
    "        <th>Country</th>\n",
    "        <th>Language Barrier</th>\n",
    "         <th>Acceptancy rate</th>\n",
    "    </thead>\n",
    "    <tbody>\n",
    "        <tr>\n",
    "            <th>Global Ranking</th>\n",
    "            <td>1</td>\n",
    "            <td>1/3</td>\n",
    "            <td>3</td>\n",
    "            <td>5</td>\n",
    "            <td>1/3</td>\n",
    "            <td>7</td>\n",
    "            <td>6</td>\n",
    "            <td>4</td>\n",
    "        </tr>\n",
    "        <tr>\n",
    "            <th>Tuition fees</th>\n",
    "            <td >3</td>\n",
    "            <td >1</td>\n",
    "            <td >4</td>\n",
    "            <td >6</td>\n",
    "            <td >1</td>\n",
    "            <td >8</td>\n",
    "            <td>7</td>\n",
    "            <td >5</td>\n",
    "        </tr>\n",
    "        <tr>\n",
    "            <th>Academic recognition</th>\n",
    "            <td >1/3</td>\n",
    "            <td>1/4</td>\n",
    "            <td >1</td>\n",
    "            <td>4</td>\n",
    "            <td>1/4</td>\n",
    "            <td>6</td>\n",
    "            <td>5</td>\n",
    "            <td>3</td>\n",
    "        </tr>\n",
    "        <tr>\n",
    "            <th>Accommodation</th>\n",
    "            <td >1/5</td>\n",
    "            <td>1/6</td>\n",
    "            <td >1/4</td>\n",
    "            <td>1</td>\n",
    "            <td>1/6</td>\n",
    "            <td >4</td>\n",
    "            <td >3</td>\n",
    "            <td>1/3</td>\n",
    "        </tr>\n",
    "        <tr>\n",
    "            <th>Job Placement</th>\n",
    "            <td >3</td>\n",
    "            <td >1</td>\n",
    "            <td>4</td>\n",
    "            <td>6</td>\n",
    "            <td>1</td>\n",
    "            <td>8</td>\n",
    "            <td>7</td>\n",
    "            <td>5</td>\n",
    "        </tr>\n",
    "        <tr>\n",
    "            <th>Country</th>\n",
    "            <td >1/7</td>\n",
    "            <td>1/8</td>\n",
    "            <td >1/6</td>\n",
    "            <td>1/4</td>\n",
    "            <td >1/8</td>\n",
    "            <td>1</td>\n",
    "            <td >1/3</td>\n",
    "            <td >1/5</td>\n",
    "        </tr>\n",
    "        <tr>\n",
    "            <th>Language Barrier</th>\n",
    "            <td >1/6</td>\n",
    "            <td >1/7</td>\n",
    "            <td >1/5</td>\n",
    "            <td >1/3</td>\n",
    "            <td >1/7</td>\n",
    "            <td >3</td>\n",
    "            <td >1</td>\n",
    "            <td >1/4</td>\n",
    "        </tr>\n",
    "        <tr>\n",
    "            <th>Acceptancy rate</th>\n",
    "            <td>1/4</td>\n",
    "            <td >1/5</td>\n",
    "            <td >1/3</td>\n",
    "            <td >3</td>\n",
    "            <td >1/5</td>\n",
    "            <td >5</td>\n",
    "            <td >4</td>\n",
    "            <td >1</td>\n",
    "        </tr>\n",
    "    </tbody>\n",
    "</table>"
   ]
  },
  {
   "cell_type": "code",
   "execution_count": 21,
   "id": "lined-referral",
   "metadata": {},
   "outputs": [
    {
     "data": {
      "text/plain": [
       "array([[1.        , 0.33333333, 3.        , 5.        , 0.33333333,\n",
       "        7.        , 6.        , 4.        ],\n",
       "       [3.        , 1.        , 4.        , 6.        , 1.        ,\n",
       "        8.        , 7.        , 5.        ],\n",
       "       [0.33333333, 0.25      , 1.        , 4.        , 0.25      ,\n",
       "        6.        , 5.        , 3.        ],\n",
       "       [0.2       , 0.16666667, 0.25      , 1.        , 0.16666667,\n",
       "        4.        , 3.        , 0.33333333],\n",
       "       [3.        , 1.        , 4.        , 6.        , 1.        ,\n",
       "        8.        , 7.        , 5.        ],\n",
       "       [0.14285714, 0.125     , 0.16666667, 0.25      , 0.125     ,\n",
       "        1.        , 0.33333333, 0.2       ],\n",
       "       [0.16666667, 0.14285714, 0.2       , 0.33333333, 0.14285714,\n",
       "        3.        , 1.        , 0.25      ],\n",
       "       [0.25      , 0.2       , 0.33333333, 3.        , 0.2       ,\n",
       "        5.        , 4.        , 1.        ]])"
      ]
     },
     "execution_count": 21,
     "metadata": {},
     "output_type": "execute_result"
    }
   ],
   "source": [
    "# global pairwise comparison matrix\n",
    "global_matrix = np.array([[1, 1/3, 3, 5, 1/3, 7, 6, 4],\n",
    "                         [3, 1, 4, 6, 1, 8, 7, 5],\n",
    "                         [1/3, 1/4, 1, 4, 1/4, 6, 5, 3],\n",
    "                         [1/5, 1/6, 1/4, 1, 1/6, 4, 3, 1/3],\n",
    "                         [3, 1, 4, 6, 1, 8, 7, 5],\n",
    "                         [1/7, 1/8, 1/6, 1/4, 1/8, 1, 1/3, 1/5],\n",
    "                         [1/6, 1/7, 1/5, 1/3, 1/7, 3, 1, 1/4],\n",
    "                         [1/4, 1/5, 1/3, 3, 1/5, 5, 4, 1]])    \n",
    "\n",
    "global_matrix"
   ]
  },
  {
   "cell_type": "markdown",
   "id": "transparent-operation",
   "metadata": {},
   "source": [
    "## Global Criteria Results"
   ]
  },
  {
   "cell_type": "code",
   "execution_count": 22,
   "id": "agreed-signature",
   "metadata": {},
   "outputs": [
    {
     "data": {
      "image/png": "[encoded data removed]",
      "text/plain": [
       "<Figure size 432x288 with 1 Axes>"
      ]
     },
     "metadata": {
      "needs_background": "light"
     },
     "output_type": "display_data"
    },
    {
     "name": "stdout",
     "output_type": "stream",
     "text": [
      "priority vector [0.1692 0.2816 0.1079 0.0438 0.2816 0.019  0.0283 0.0686]\n",
      "consistency index 0.1041\n",
      "consistency ratio 0.0744\n"
     ]
    }
   ],
   "source": [
    "get_result(M=global_matrix, labels=[\n",
    "    \"Global Ranking\",\"Tuition fees\",\n",
    "    \"Academic recognition\",\n",
    "    \"Accommodation\",\n",
    "    \"Job Placement\",\n",
    "    \"Country\",\n",
    "    \"Language Barrier\",\n",
    "    \"Acceptancy rate\"],dgrLabels=90, computeGlobal=True) # and we did not forget to set our computeGlobal to True"
   ]
  },
  {
   "cell_type": "markdown",
   "id": "mounted-welding",
   "metadata": {},
   "source": [
    "## Global Priorities"
   ]
  },
  {
   "cell_type": "code",
   "execution_count": 23,
   "id": "close-joseph",
   "metadata": {},
   "outputs": [
    {
     "data": {
      "text/plain": [
       "array([[0.04545933, 0.12416636, 0.05771984, 0.59078053, 0.26613299,\n",
       "        0.10702601, 0.07478985, 0.07478985],\n",
       "       [0.63944043, 0.0544875 , 0.28481752, 0.08339873, 0.05892824,\n",
       "        0.55935463, 0.40285192, 0.40285192],\n",
       "       [0.10819074, 0.12416636, 0.11041152, 0.27358275, 0.11953795,\n",
       "        0.26880809, 0.40285192, 0.40285192],\n",
       "       [0.20690951, 0.69717977, 0.54705112, 0.05223799, 0.55540083,\n",
       "        0.06481126, 0.11950631, 0.11950631]])"
      ]
     },
     "execution_count": 23,
     "metadata": {},
     "output_type": "execute_result"
    }
   ],
   "source": [
    "# And now let's put to good use our M_LOCAL matrix\n",
    "# consisting of local priority vectors of alternatives with respect to\n",
    "# Global Ranking, Tuition fees, Academic recognition, \n",
    "# Acceptancy rate, Accommodation, Job Placement, Country, Language Barrier\n",
    "\n",
    "M_LOCAL = np.vstack (M_LOCAL).T\n",
    "\n",
    "M_LOCAL"
   ]
  },
  {
   "cell_type": "code",
   "execution_count": 24,
   "id": "elementary-stick",
   "metadata": {},
   "outputs": [
    {
     "data": {
      "image/png": "[encoded data removed]",
      "text/plain": [
       "<Figure size 432x288 with 1 Axes>"
      ]
     },
     "metadata": {
      "needs_background": "light"
     },
     "output_type": "display_data"
    },
    {
     "name": "stdout",
     "output_type": "stream",
     "text": [
      "Global priority vector [0.159  0.2242 0.155  0.4619]\n"
     ]
    }
   ],
   "source": [
    "# global priority vector\n",
    "G = M_LOCAL.dot(np.array(y_GOAL).flatten())\n",
    "# visualization\n",
    "labels = ['A1', 'A2', 'A3', 'A4']\n",
    "plt.bar(labels, G)\n",
    "plt.show()\n",
    "print(f'Global priority vector {G.round(4)}')"
   ]
  },
  {
   "cell_type": "markdown",
   "id": "numerous-treasurer",
   "metadata": {},
   "source": [
    "## Conclusion"
   ]
  },
  {
   "cell_type": "markdown",
   "id": "collective-tablet",
   "metadata": {},
   "source": [
    "I would like to express how surprised I was with the results. As the graph shows, the best decision right now is to go with A4 (probably because it is a scholarship program): with a priority of 0.4619. A4 is followed by A2 (where I didn't even consider applying for) with the priority of 0.2242. A1 and A3 can feel tight, with A1 having the slightly higher priority of 0.159 (again, I wasn't even considering applying for this) versus A3 with a priority of 0.159."
   ]
  }
 ],
 "metadata": {
  "kernelspec": {
   "display_name": "Python 3",
   "language": "python",
   "name": "python3"
  },
  "language_info": {
   "codemirror_mode": {
    "name": "ipython",
    "version": 3
   },
   "file_extension": ".py",
   "mimetype": "text/x-python",
   "name": "python",
   "nbconvert_exporter": "python",
   "pygments_lexer": "ipython3",
   "version": "3.9.4"
  }
 },
 "nbformat": 4,
 "nbformat_minor": 5
}
